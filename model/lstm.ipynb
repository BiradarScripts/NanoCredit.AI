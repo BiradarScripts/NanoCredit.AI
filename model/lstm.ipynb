{
 "cells": [
  {
   "cell_type": "code",
   "execution_count": null,
   "metadata": {
    "vscode": {
     "languageId": "plaintext"
    }
   },
   "outputs": [],
   "source": [
    "!pip install tensorflow scikit-learn pandas numpy"
   ]
  },
  {
   "cell_type": "code",
   "execution_count": null,
   "metadata": {
    "vscode": {
     "languageId": "plaintext"
    }
   },
   "outputs": [],
   "source": [
    "import numpy as np\n",
    "import pandas as pd\n",
    "from sklearn.preprocessing import StandardScaler\n",
    "from tensorflow.keras.models import Sequential\n",
    "from tensorflow.keras.layers import LSTM, Dense\n",
    "from sklearn.model_selection import train_test_split\n",
    "\n",
    "# Sample sequential dataset\n",
    "# Assuming a time series of monthly data for 4 months\n",
    "data = {\n",
    "    'Month': ['2024-01', '2024-02', '2024-03', '2024-04'],\n",
    "    'Current Loan Amount': [5000, 12000, 15000, 10000],\n",
    "    'Credit Score': [650, 670, 700, 620],\n",
    "    'Annual Income': [40000, 42000, 43000, 41000],\n",
    "    'Monthly Debt': [1000, 1100, 1200, 1050],\n",
    "    'Risk': [0, 1, 0, 1]  # 0 = No risk, 1 = Risk of fraud/repayment failure\n",
    "}\n",
    "\n",
    "# Convert data into a DataFrame\n",
    "df = pd.DataFrame(data)\n",
    "\n",
    "# Preprocessing\n",
    "scaler = StandardScaler()\n",
    "\n",
    "# Normalize the features\n",
    "scaled_features = scaler.fit_transform(df[['Current Loan Amount', 'Credit Score', 'Annual Income', 'Monthly Debt']])\n",
    "\n",
    "# Create time series data for LSTM\n",
    "X = []\n",
    "y = []\n",
    "sequence_length = 2  # Use last 2 months to predict the next month's risk\n",
    "\n",
    "for i in range(len(scaled_features) - sequence_length):\n",
    "    X.append(scaled_features[i:i+sequence_length])\n",
    "    y.append(df['Risk'].iloc[i+sequence_length])\n",
    "\n",
    "X = np.array(X)\n",
    "y = np.array(y)\n",
    "\n",
    "# Split the data into training and testing sets\n",
    "X_train, X_test, y_train, y_test = train_test_split(X, y, test_size=0.2, random_state=42)\n",
    "\n",
    "# Build the LSTM model\n",
    "model = Sequential()\n",
    "model.add(LSTM(units=50, return_sequences=False, input_shape=(X_train.shape[1], X_train.shape[2])))\n",
    "model.add(Dense(1, activation='sigmoid'))  # Sigmoid activation for binary classification (risk or no risk)\n",
    "\n",
    "# Compile the model\n",
    "model.compile(optimizer='adam', loss='binary_crossentropy', metrics=['accuracy'])\n",
    "\n",
    "# Train the model\n",
    "model.fit(X_train, y_train, epochs=10, batch_size=1, verbose=1)\n",
    "\n",
    "# Evaluate the model\n",
    "loss, accuracy = model.evaluate(X_test, y_test)\n",
    "print(f\"LSTM Model Accuracy: {accuracy * 100:.2f}%\")\n"
   ]
  }
 ],
 "metadata": {
  "language_info": {
   "name": "python"
  }
 },
 "nbformat": 4,
 "nbformat_minor": 2
}
