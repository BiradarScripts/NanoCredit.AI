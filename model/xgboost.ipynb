{
 "cells": [
  {
   "cell_type": "code",
   "execution_count": null,
   "metadata": {
    "vscode": {
     "languageId": "plaintext"
    }
   },
   "outputs": [],
   "source": [
    "!pip install xgboost scikit-learn pandas numpy\n"
   ]
  },
  {
   "cell_type": "code",
   "execution_count": null,
   "metadata": {
    "vscode": {
     "languageId": "plaintext"
    }
   },
   "outputs": [],
   "source": [
    "import xgboost as xgb\n",
    "import pandas as pd\n",
    "from sklearn.model_selection import train_test_split\n",
    "from sklearn.metrics import accuracy_score\n",
    "\n",
    "# Sample dataset\n",
    "data = {\n",
    "    'Current Loan Amount': [5000, 15000, 20000, 10000],\n",
    "    'Term': ['Short', 'Long', 'Short', 'Long'],\n",
    "    'Credit Score': [650, 700, 750, 600],\n",
    "    'Years in current job': [2, 5, 10, 3],\n",
    "    'Home Ownership': ['Rent', 'Own', 'Home Mortgage', 'Rent'],\n",
    "    'Annual Income': [40000, 60000, 80000, 30000],\n",
    "    'Monthly Debt': [1000, 1200, 500, 1100],\n",
    "    'Years of Credit History': [5, 8, 10, 4],\n",
    "    'Months since last delinquent': [6, 0, 12, 3],\n",
    "    'Number of Open Accounts': [5, 3, 7, 4],\n",
    "    'Number of Credit Problems': [1, 0, 0, 3],\n",
    "    'Current Credit Balance': [2000, 5000, 10000, 1500],\n",
    "    'Maximum Open Credit': [10000, 20000, 30000, 5000],\n",
    "    'Bankruptcies': [0, 1, 0, 2],\n",
    "    'Tax Liens': [0, 0, 0, 1],\n",
    "    'Risk': [0, 1, 0, 1]  # 0 = No risk, 1 = Risk of fraud/repayment failure\n",
    "}\n",
    "\n",
    "# Convert the data into a DataFrame\n",
    "df = pd.DataFrame(data)\n",
    "\n",
    "# Preprocessing\n",
    "# Convert categorical variables to numeric\n",
    "df['Term'] = df['Term'].map({'Short': 0, 'Long': 1})\n",
    "df['Home Ownership'] = df['Home Ownership'].map({'Rent': 0, 'Own': 1, 'Home Mortgage': 2})\n",
    "\n",
    "# Features and labels\n",
    "X = df.drop(columns=['Risk'])\n",
    "y = df['Risk']\n",
    "\n",
    "# Split the data into training and testing sets\n",
    "X_train, X_test, y_train, y_test = train_test_split(X, y, test_size=0.2, random_state=42)\n",
    "\n",
    "# Train the XGBoost model\n",
    "model = xgb.XGBClassifier(use_label_encoder=False, eval_metric='logloss')\n",
    "model.fit(X_train, y_train)\n",
    "\n",
    "# Make predictions\n",
    "y_pred = model.predict(X_test)\n",
    "\n",
    "# Evaluate the model\n",
    "accuracy = accuracy_score(y_test, y_pred)\n",
    "print(f\"XGBoost Model Accuracy: {accuracy * 100:.2f}%\")\n"
   ]
  }
 ],
 "metadata": {
  "language_info": {
   "name": "python"
  }
 },
 "nbformat": 4,
 "nbformat_minor": 2
}
